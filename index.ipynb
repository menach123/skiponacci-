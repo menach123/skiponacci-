{
  "nbformat": 4,
  "nbformat_minor": 0,
  "metadata": {
    "colab": {
      "name": "index.ipynb",
      "provenance": []
    },
    "kernelspec": {
      "name": "python3",
      "display_name": "Python 3"
    }
  },
  "cells": [
    {
      "cell_type": "markdown",
      "metadata": {
        "id": "Y3HSOagjy-XI",
        "colab_type": "text"
      },
      "source": [
        "### The Skiponacci Sequence\n",
        "\n",
        "Your task is to generate the Fibonacci sequence to n places, with each alternating value as \"skip\". For example:\n",
        "```\n",
        "\"1 skip 2 skip 5 skip 13 skip 34\"\n",
        "```\n",
        "Return the result as a string\n",
        "\n",
        "You can presume that n is always a positive integer between (and including) 1 and 64."
      ]
    },
    {
      "cell_type": "code",
      "metadata": {
        "id": "Xj2PX-7Wy4xj",
        "colab_type": "code",
        "colab": {}
      },
      "source": [
        "fib_sequence = [1 , 1 ]\n",
        "\n",
        "for i in range(64-2):\n",
        "    fib_sequence.append(sum(fib_sequence[-2:]))\n",
        "def skiponacci(n):\n",
        "    sequence = []\n",
        "    for i in range(n):\n",
        "        if(i+1)%2 != 1:\n",
        "            sequence.append('skip')\n",
        "        else:\n",
        "            sequence.append(str(fib_sequence[i]))\n",
        "    sequence = sequence[:-1] if sequence[-1] == 'skip' else sequence\n",
        "    return ' '.join(sequence)\n",
        "    "
      ],
      "execution_count": 1,
      "outputs": []
    },
    {
      "cell_type": "markdown",
      "metadata": {
        "id": "Ap2UFgkFy862",
        "colab_type": "text"
      },
      "source": [
        "#### Using function from <a href=https://www.javatpoint.com/python-display-fibonacci-sequence-recursion>Python Program to Display Fibonacci Sequence Using Recursion</a>"
      ]
    },
    {
      "cell_type": "code",
      "metadata": {
        "id": "JkrWNUjYW7lS",
        "colab_type": "code",
        "colab": {
          "base_uri": "https://localhost:8080/",
          "height": 34
        },
        "outputId": "6f37d99e-5614-412f-f415-d4333da1425f"
      },
      "source": [
        "skiponacci(1) == \"1\"\n"
      ],
      "execution_count": 3,
      "outputs": [
        {
          "output_type": "execute_result",
          "data": {
            "text/plain": [
              "True"
            ]
          },
          "metadata": {
            "tags": []
          },
          "execution_count": 3
        }
      ]
    },
    {
      "cell_type": "code",
      "metadata": {
        "id": "RvptufbqZTz_",
        "colab_type": "code",
        "colab": {
          "base_uri": "https://localhost:8080/",
          "height": 34
        },
        "outputId": "197e4309-17a9-43d5-a5ea-606a27df798a"
      },
      "source": [
        "skiponacci(5) == \"1 skip 2 skip 5\"\n"
      ],
      "execution_count": 4,
      "outputs": [
        {
          "output_type": "execute_result",
          "data": {
            "text/plain": [
              "True"
            ]
          },
          "metadata": {
            "tags": []
          },
          "execution_count": 4
        }
      ]
    },
    {
      "cell_type": "code",
      "metadata": {
        "id": "QJsiinuvZWS1",
        "colab_type": "code",
        "colab": {
          "base_uri": "https://localhost:8080/",
          "height": 34
        },
        "outputId": "94921091-439a-4e28-8a63-4eb5d549d572"
      },
      "source": [
        "skiponacci(7) == \"1 skip 2 skip 5 skip 13\""
      ],
      "execution_count": 5,
      "outputs": [
        {
          "output_type": "execute_result",
          "data": {
            "text/plain": [
              "True"
            ]
          },
          "metadata": {
            "tags": []
          },
          "execution_count": 5
        }
      ]
    },
    {
      "cell_type": "code",
      "metadata": {
        "id": "yt6i68ObaDSo",
        "colab_type": "code",
        "colab": {
          "base_uri": "https://localhost:8080/",
          "height": 35
        },
        "outputId": "e84c6941-f1ad-4034-9ebc-5344eb7a386b"
      },
      "source": [
        "skiponacci(5)"
      ],
      "execution_count": 6,
      "outputs": [
        {
          "output_type": "execute_result",
          "data": {
            "application/vnd.google.colaboratory.intrinsic+json": {
              "type": "string"
            },
            "text/plain": [
              "'1 skip 2 skip 5'"
            ]
          },
          "metadata": {
            "tags": []
          },
          "execution_count": 6
        }
      ]
    },
    {
      "cell_type": "code",
      "metadata": {
        "id": "lIisbUMmHeNe",
        "colab_type": "code",
        "colab": {}
      },
      "source": [
        ""
      ],
      "execution_count": null,
      "outputs": []
    }
  ]
}